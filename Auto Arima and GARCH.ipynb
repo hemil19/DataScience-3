{
 "cells": [
  {
   "cell_type": "code",
   "execution_count": 7,
   "metadata": {
    "colab": {},
    "colab_type": "code",
    "id": "_asg63r8ZlIt"
   },
   "outputs": [],
   "source": [
    "import pandas as pd\n",
    "import numpy as np\n",
    "import matplotlib.pyplot as plt\n",
    "import seaborn as sns\n",
    "sns.set()\n",
    "import scipy.stats\n",
    "import pylab\n",
    "from sklearn.metrics import mean_squared_error\n",
    "from matplotlib.pyplot import figure\n",
    "import statsmodels.graphics.tsaplots as sgt\n",
    "import statsmodels.tsa.stattools as sts \n",
    "import statsmodels.api as sm\n"
   ]
  },
  {
   "cell_type": "code",
   "execution_count": 8,
   "metadata": {
    "colab": {},
    "colab_type": "code",
    "id": "8gbiXlgyeJdS"
   },
   "outputs": [],
   "source": [
    "mydatats = pd.read_csv(\"oilpriceindex.csv\", na_values=[\"null\"], index_col='DATE', parse_dates= True, infer_datetime_format= True)"
   ]
  },
  {
   "cell_type": "code",
   "execution_count": 9,
   "metadata": {
    "colab": {
     "base_uri": "https://localhost:8080/",
     "height": 104
    },
    "colab_type": "code",
    "id": "8gJkt4WVef1U",
    "outputId": "c54e0986-8b52-48b3-acd2-4391169aa7eb"
   },
   "outputs": [
    {
     "data": {
      "text/plain": [
       "WTI      1\n",
       "BRENT    2\n",
       "INR      4\n",
       "NIFTY    3\n",
       "dtype: int64"
      ]
     },
     "execution_count": 9,
     "metadata": {
      "tags": []
     },
     "output_type": "execute_result"
    }
   ],
   "source": [
    "mydatats.isna().sum()"
   ]
  },
  {
   "cell_type": "code",
   "execution_count": 10,
   "metadata": {
    "colab": {
     "base_uri": "https://localhost:8080/",
     "height": 104
    },
    "colab_type": "code",
    "id": "PoXMVYRweKJk",
    "outputId": "bbbe993d-74b9-4e1b-b5b5-054987430324"
   },
   "outputs": [
    {
     "data": {
      "text/plain": [
       "WTI      0\n",
       "BRENT    0\n",
       "INR      0\n",
       "NIFTY    0\n",
       "dtype: int64"
      ]
     },
     "execution_count": 10,
     "metadata": {
      "tags": []
     },
     "output_type": "execute_result"
    }
   ],
   "source": [
    "mydatats = mydatats.fillna(method='bfill')\n",
    "mydatats.isna().sum()"
   ]
  },
  {
   "cell_type": "code",
   "execution_count": 11,
   "metadata": {
    "colab": {
     "base_uri": "https://localhost:8080/",
     "height": 294
    },
    "colab_type": "code",
    "id": "mr7zNeW7es39",
    "outputId": "0c031b50-7597-43dc-abbe-dd9e96050aae"
   },
   "outputs": [
    {
     "data": {
      "text/html": [
       "<div>\n",
       "<style scoped>\n",
       "    .dataframe tbody tr th:only-of-type {\n",
       "        vertical-align: middle;\n",
       "    }\n",
       "\n",
       "    .dataframe tbody tr th {\n",
       "        vertical-align: top;\n",
       "    }\n",
       "\n",
       "    .dataframe thead th {\n",
       "        text-align: right;\n",
       "    }\n",
       "</style>\n",
       "<table border=\"1\" class=\"dataframe\">\n",
       "  <thead>\n",
       "    <tr style=\"text-align: right;\">\n",
       "      <th></th>\n",
       "      <th>WTI</th>\n",
       "      <th>BRENT</th>\n",
       "      <th>INR</th>\n",
       "      <th>NIFTY</th>\n",
       "    </tr>\n",
       "  </thead>\n",
       "  <tbody>\n",
       "    <tr>\n",
       "      <th>count</th>\n",
       "      <td>361.000000</td>\n",
       "      <td>361.000000</td>\n",
       "      <td>361.000000</td>\n",
       "      <td>361.000000</td>\n",
       "    </tr>\n",
       "    <tr>\n",
       "      <th>mean</th>\n",
       "      <td>47.762050</td>\n",
       "      <td>49.207341</td>\n",
       "      <td>96.283934</td>\n",
       "      <td>0.181634</td>\n",
       "    </tr>\n",
       "    <tr>\n",
       "      <th>std</th>\n",
       "      <td>29.194685</td>\n",
       "      <td>32.816631</td>\n",
       "      <td>28.089831</td>\n",
       "      <td>1.893195</td>\n",
       "    </tr>\n",
       "    <tr>\n",
       "      <th>min</th>\n",
       "      <td>11.350000</td>\n",
       "      <td>9.820000</td>\n",
       "      <td>35.600000</td>\n",
       "      <td>-6.180000</td>\n",
       "    </tr>\n",
       "    <tr>\n",
       "      <th>25%</th>\n",
       "      <td>21.280000</td>\n",
       "      <td>19.740000</td>\n",
       "      <td>75.500000</td>\n",
       "      <td>-0.790000</td>\n",
       "    </tr>\n",
       "    <tr>\n",
       "      <th>50%</th>\n",
       "      <td>40.780000</td>\n",
       "      <td>39.950000</td>\n",
       "      <td>95.100000</td>\n",
       "      <td>0.180000</td>\n",
       "    </tr>\n",
       "    <tr>\n",
       "      <th>75%</th>\n",
       "      <td>68.060000</td>\n",
       "      <td>70.760000</td>\n",
       "      <td>113.800000</td>\n",
       "      <td>1.080000</td>\n",
       "    </tr>\n",
       "    <tr>\n",
       "      <th>max</th>\n",
       "      <td>133.880000</td>\n",
       "      <td>132.720000</td>\n",
       "      <td>154.300000</td>\n",
       "      <td>17.740000</td>\n",
       "    </tr>\n",
       "  </tbody>\n",
       "</table>\n",
       "</div>"
      ],
      "text/plain": [
       "              WTI       BRENT         INR       NIFTY\n",
       "count  361.000000  361.000000  361.000000  361.000000\n",
       "mean    47.762050   49.207341   96.283934    0.181634\n",
       "std     29.194685   32.816631   28.089831    1.893195\n",
       "min     11.350000    9.820000   35.600000   -6.180000\n",
       "25%     21.280000   19.740000   75.500000   -0.790000\n",
       "50%     40.780000   39.950000   95.100000    0.180000\n",
       "75%     68.060000   70.760000  113.800000    1.080000\n",
       "max    133.880000  132.720000  154.300000   17.740000"
      ]
     },
     "execution_count": 11,
     "metadata": {
      "tags": []
     },
     "output_type": "execute_result"
    }
   ],
   "source": [
    "mydatats.describe()"
   ]
  },
  {
   "cell_type": "code",
   "execution_count": 12,
   "metadata": {
    "colab": {
     "base_uri": "https://localhost:8080/",
     "height": 233
    },
    "colab_type": "code",
    "id": "k3chQ1fPe0NI",
    "outputId": "ab520356-fe0f-4818-9739-d975eadb9592"
   },
   "outputs": [
    {
     "data": {
      "text/html": [
       "<div>\n",
       "<style scoped>\n",
       "    .dataframe tbody tr th:only-of-type {\n",
       "        vertical-align: middle;\n",
       "    }\n",
       "\n",
       "    .dataframe tbody tr th {\n",
       "        vertical-align: top;\n",
       "    }\n",
       "\n",
       "    .dataframe thead th {\n",
       "        text-align: right;\n",
       "    }\n",
       "</style>\n",
       "<table border=\"1\" class=\"dataframe\">\n",
       "  <thead>\n",
       "    <tr style=\"text-align: right;\">\n",
       "      <th></th>\n",
       "      <th>WTI</th>\n",
       "      <th>BRENT</th>\n",
       "      <th>INR</th>\n",
       "      <th>NIFTY</th>\n",
       "    </tr>\n",
       "    <tr>\n",
       "      <th>DATE</th>\n",
       "      <th></th>\n",
       "      <th></th>\n",
       "      <th></th>\n",
       "      <th></th>\n",
       "    </tr>\n",
       "  </thead>\n",
       "  <tbody>\n",
       "    <tr>\n",
       "      <th>1990-01-01</th>\n",
       "      <td>22.86</td>\n",
       "      <td>21.25</td>\n",
       "      <td>35.6</td>\n",
       "      <td>0.44</td>\n",
       "    </tr>\n",
       "    <tr>\n",
       "      <th>1990-02-01</th>\n",
       "      <td>22.11</td>\n",
       "      <td>19.81</td>\n",
       "      <td>35.6</td>\n",
       "      <td>2.45</td>\n",
       "    </tr>\n",
       "    <tr>\n",
       "      <th>1990-03-01</th>\n",
       "      <td>18.43</td>\n",
       "      <td>18.39</td>\n",
       "      <td>35.9</td>\n",
       "      <td>-0.28</td>\n",
       "    </tr>\n",
       "    <tr>\n",
       "      <th>1990-04-01</th>\n",
       "      <td>18.43</td>\n",
       "      <td>16.61</td>\n",
       "      <td>36.3</td>\n",
       "      <td>-6.18</td>\n",
       "    </tr>\n",
       "    <tr>\n",
       "      <th>1990-05-01</th>\n",
       "      <td>18.20</td>\n",
       "      <td>16.35</td>\n",
       "      <td>36.3</td>\n",
       "      <td>-1.62</td>\n",
       "    </tr>\n",
       "  </tbody>\n",
       "</table>\n",
       "</div>"
      ],
      "text/plain": [
       "              WTI  BRENT   INR  NIFTY\n",
       "DATE                                 \n",
       "1990-01-01  22.86  21.25  35.6   0.44\n",
       "1990-02-01  22.11  19.81  35.6   2.45\n",
       "1990-03-01  18.43  18.39  35.9  -0.28\n",
       "1990-04-01  18.43  16.61  36.3  -6.18\n",
       "1990-05-01  18.20  16.35  36.3  -1.62"
      ]
     },
     "execution_count": 12,
     "metadata": {
      "tags": []
     },
     "output_type": "execute_result"
    }
   ],
   "source": [
    "mydatats.head()"
   ]
  },
  {
   "cell_type": "code",
   "execution_count": 12,
   "metadata": {
    "colab": {},
    "colab_type": "code",
    "id": "DnX9UYEfuN0a"
   },
   "outputs": [],
   "source": []
  },
  {
   "cell_type": "markdown",
   "metadata": {
    "colab_type": "text",
    "id": "RqqP8D4wuSkh"
   },
   "source": [
    "We need our data searies to be stationary. And we wknow that the restuen series is stationary."
   ]
  },
  {
   "cell_type": "code",
   "execution_count": 13,
   "metadata": {
    "colab": {},
    "colab_type": "code",
    "id": "92l9AFWVua8I"
   },
   "outputs": [],
   "source": [
    "mydatats[\"WTI_pct\"]= mydatats.WTI.pct_change(1)*100\n",
    "mydatats[\"WTI_sqr\"]= mydatats.WTI_pct.mul(mydatats.WTI_pct)"
   ]
  },
  {
   "cell_type": "code",
   "execution_count": 14,
   "metadata": {
    "colab": {
     "base_uri": "https://localhost:8080/",
     "height": 233
    },
    "colab_type": "code",
    "id": "ZqK2eP29vC9k",
    "outputId": "adc43b86-fb53-433b-e36f-1572aa20ef1d"
   },
   "outputs": [
    {
     "data": {
      "text/html": [
       "<div>\n",
       "<style scoped>\n",
       "    .dataframe tbody tr th:only-of-type {\n",
       "        vertical-align: middle;\n",
       "    }\n",
       "\n",
       "    .dataframe tbody tr th {\n",
       "        vertical-align: top;\n",
       "    }\n",
       "\n",
       "    .dataframe thead th {\n",
       "        text-align: right;\n",
       "    }\n",
       "</style>\n",
       "<table border=\"1\" class=\"dataframe\">\n",
       "  <thead>\n",
       "    <tr style=\"text-align: right;\">\n",
       "      <th></th>\n",
       "      <th>WTI</th>\n",
       "      <th>BRENT</th>\n",
       "      <th>INR</th>\n",
       "      <th>NIFTY</th>\n",
       "      <th>WTI_pct</th>\n",
       "      <th>WTI_sqr</th>\n",
       "    </tr>\n",
       "    <tr>\n",
       "      <th>DATE</th>\n",
       "      <th></th>\n",
       "      <th></th>\n",
       "      <th></th>\n",
       "      <th></th>\n",
       "      <th></th>\n",
       "      <th></th>\n",
       "    </tr>\n",
       "  </thead>\n",
       "  <tbody>\n",
       "    <tr>\n",
       "      <th>1990-01-01</th>\n",
       "      <td>22.86</td>\n",
       "      <td>21.25</td>\n",
       "      <td>35.6</td>\n",
       "      <td>0.44</td>\n",
       "      <td>NaN</td>\n",
       "      <td>NaN</td>\n",
       "    </tr>\n",
       "    <tr>\n",
       "      <th>1990-02-01</th>\n",
       "      <td>22.11</td>\n",
       "      <td>19.81</td>\n",
       "      <td>35.6</td>\n",
       "      <td>2.45</td>\n",
       "      <td>-3.280840</td>\n",
       "      <td>10.763910</td>\n",
       "    </tr>\n",
       "    <tr>\n",
       "      <th>1990-03-01</th>\n",
       "      <td>18.43</td>\n",
       "      <td>18.39</td>\n",
       "      <td>35.9</td>\n",
       "      <td>-0.28</td>\n",
       "      <td>-16.644052</td>\n",
       "      <td>277.024482</td>\n",
       "    </tr>\n",
       "    <tr>\n",
       "      <th>1990-04-01</th>\n",
       "      <td>18.43</td>\n",
       "      <td>16.61</td>\n",
       "      <td>36.3</td>\n",
       "      <td>-6.18</td>\n",
       "      <td>0.000000</td>\n",
       "      <td>0.000000</td>\n",
       "    </tr>\n",
       "    <tr>\n",
       "      <th>1990-05-01</th>\n",
       "      <td>18.20</td>\n",
       "      <td>16.35</td>\n",
       "      <td>36.3</td>\n",
       "      <td>-1.62</td>\n",
       "      <td>-1.247965</td>\n",
       "      <td>1.557417</td>\n",
       "    </tr>\n",
       "  </tbody>\n",
       "</table>\n",
       "</div>"
      ],
      "text/plain": [
       "              WTI  BRENT   INR  NIFTY    WTI_pct     WTI_sqr\n",
       "DATE                                                        \n",
       "1990-01-01  22.86  21.25  35.6   0.44        NaN         NaN\n",
       "1990-02-01  22.11  19.81  35.6   2.45  -3.280840   10.763910\n",
       "1990-03-01  18.43  18.39  35.9  -0.28 -16.644052  277.024482\n",
       "1990-04-01  18.43  16.61  36.3  -6.18   0.000000    0.000000\n",
       "1990-05-01  18.20  16.35  36.3  -1.62  -1.247965    1.557417"
      ]
     },
     "execution_count": 14,
     "metadata": {
      "tags": []
     },
     "output_type": "execute_result"
    }
   ],
   "source": [
    "mydatats.head()"
   ]
  },
  {
   "cell_type": "code",
   "execution_count": 15,
   "metadata": {
    "colab": {
     "base_uri": "https://localhost:8080/",
     "height": 365
    },
    "colab_type": "code",
    "id": "HyOWpWjHvJD6",
    "outputId": "a440d098-9954-4261-ed35-2e146f66900b"
   },
   "outputs": [
    {
     "data": {
      "image/png": "[encoded data removed]",
      "text/plain": [
       "<Figure size 864x360 with 2 Axes>"
      ]
     },
     "metadata": {
      "tags": []
     },
     "output_type": "display_data"
    }
   ],
   "source": [
    "plt.subplot(2,1,1)\n",
    "mydatats.WTI_pct[1:].plot(figsize=(12,5))\n",
    "plt.title(\"WTI PCT\", size = 15)\n",
    "\n",
    "plt.subplot(2,1,2)\n",
    "mydatats.WTI_sqr[1:].plot(figsize=(12,5))\n",
    "plt.title(\"WTI SQR_PCT\", size = 15)\n",
    "plt.tight_layout()\n"
   ]
  },
  {
   "cell_type": "code",
   "execution_count": 15,
   "metadata": {
    "colab": {},
    "colab_type": "code",
    "id": "L8MUh_TCvsTR"
   },
   "outputs": [],
   "source": []
  },
  {
   "cell_type": "markdown",
   "metadata": {
    "colab_type": "text",
    "id": "NzbVo0c01dZN"
   },
   "source": [
    "Let's see the PACF for both return and sqr return"
   ]
  },
  {
   "cell_type": "code",
   "execution_count": 16,
   "metadata": {
    "colab": {
     "base_uri": "https://localhost:8080/",
     "height": 284
    },
    "colab_type": "code",
    "id": "3_7GdaK-1oNE",
    "outputId": "d8575c02-5dd6-4e6d-e4cf-e43b5ecaea88"
   },
   "outputs": [
    {
     "data": {
      "image/png": "[encoded data removed]",
      "text/plain": [
       "<Figure size 432x288 with 1 Axes>"
      ]
     },
     "metadata": {
      "tags": []
     },
     "output_type": "display_data"
    }
   ],
   "source": [
    "sgt.plot_pacf(mydatats.WTI_pct[1:], lags= 40, alpha= 0.05, zero=False, method=\"ols\")\n",
    "plt.title(\"PACF of WTI_pct\")\n",
    "plt.show()"
   ]
  },
  {
   "cell_type": "code",
   "execution_count": 17,
   "metadata": {
    "colab": {
     "base_uri": "https://localhost:8080/",
     "height": 284
    },
    "colab_type": "code",
    "id": "7ZDgPve32U4j",
    "outputId": "fbda3631-1260-41c2-84ec-7cb448b3bb16"
   },
   "outputs": [
    {
     "data": {
      "image/png": "[encoded data removed]",
      "text/plain": [
       "<Figure size 432x288 with 1 Axes>"
      ]
     },
     "metadata": {
      "tags": []
     },
     "output_type": "display_data"
    }
   ],
   "source": [
    "sgt.plot_pacf(mydatats.WTI_sqr[1:], lags= 40, alpha= 0.05, zero=False, method=\"ols\")\n",
    "plt.title(\"PACF of WTI_pct_sqr\")\n",
    "plt.show()"
   ]
  },
  {
   "cell_type": "code",
   "execution_count": 18,
   "metadata": {
    "colab": {
     "base_uri": "https://localhost:8080/",
     "height": 208
    },
    "colab_type": "code",
    "id": "qju9otTr2yik",
    "outputId": "fb6be9ba-0d42-4e56-ac1b-8d0baee394c7"
   },
   "outputs": [
    {
     "name": "stdout",
     "output_type": "stream",
     "text": [
      "Requirement already satisfied: arch in /usr/local/lib/python3.6/dist-packages (4.15)\n",
      "Requirement already satisfied: cython>=0.29.14 in /usr/local/lib/python3.6/dist-packages (from arch) (0.29.17)\n",
      "Requirement already satisfied: statsmodels>=0.9 in /usr/local/lib/python3.6/dist-packages (from arch) (0.11.1)\n",
      "Requirement already satisfied: numpy>=1.14 in /usr/local/lib/python3.6/dist-packages (from arch) (1.18.5)\n",
      "Requirement already satisfied: scipy>=1.0.1 in /usr/local/lib/python3.6/dist-packages (from arch) (1.4.1)\n",
      "Requirement already satisfied: pandas>=0.23 in /usr/local/lib/python3.6/dist-packages (from arch) (1.0.5)\n",
      "Requirement already satisfied: property-cached>=1.6.3 in /usr/local/lib/python3.6/dist-packages (from arch) (1.6.4)\n",
      "Requirement already satisfied: patsy>=0.5 in /usr/local/lib/python3.6/dist-packages (from statsmodels>=0.9->arch) (0.5.1)\n",
      "Requirement already satisfied: python-dateutil>=2.6.1 in /usr/local/lib/python3.6/dist-packages (from pandas>=0.23->arch) (2.8.1)\n",
      "Requirement already satisfied: pytz>=2017.2 in /usr/local/lib/python3.6/dist-packages (from pandas>=0.23->arch) (2018.9)\n",
      "Requirement already satisfied: six in /usr/local/lib/python3.6/dist-packages (from patsy>=0.5->statsmodels>=0.9->arch) (1.15.0)\n"
     ]
    }
   ],
   "source": [
    "# ARCH(P)\n",
    "!pip install arch"
   ]
  },
  {
   "cell_type": "code",
   "execution_count": 19,
   "metadata": {
    "colab": {
     "base_uri": "https://localhost:8080/",
     "height": 208
    },
    "colab_type": "code",
    "id": "8KukpSgM3B3c",
    "outputId": "392c02a3-f1bd-416c-b729-4b40b7b7c940"
   },
   "outputs": [
    {
     "name": "stdout",
     "output_type": "stream",
     "text": [
      "Requirement already satisfied: arch in /usr/local/lib/python3.6/dist-packages (4.15)\n",
      "Requirement already satisfied: property-cached>=1.6.3 in /usr/local/lib/python3.6/dist-packages (from arch) (1.6.4)\n",
      "Requirement already satisfied: scipy>=1.0.1 in /usr/local/lib/python3.6/dist-packages (from arch) (1.4.1)\n",
      "Requirement already satisfied: statsmodels>=0.9 in /usr/local/lib/python3.6/dist-packages (from arch) (0.11.1)\n",
      "Requirement already satisfied: cython>=0.29.14 in /usr/local/lib/python3.6/dist-packages (from arch) (0.29.17)\n",
      "Requirement already satisfied: numpy>=1.14 in /usr/local/lib/python3.6/dist-packages (from arch) (1.18.5)\n",
      "Requirement already satisfied: pandas>=0.23 in /usr/local/lib/python3.6/dist-packages (from arch) (1.0.5)\n",
      "Requirement already satisfied: patsy>=0.5 in /usr/local/lib/python3.6/dist-packages (from statsmodels>=0.9->arch) (0.5.1)\n",
      "Requirement already satisfied: python-dateutil>=2.6.1 in /usr/local/lib/python3.6/dist-packages (from pandas>=0.23->arch) (2.8.1)\n",
      "Requirement already satisfied: pytz>=2017.2 in /usr/local/lib/python3.6/dist-packages (from pandas>=0.23->arch) (2018.9)\n",
      "Requirement already satisfied: six in /usr/local/lib/python3.6/dist-packages (from patsy>=0.5->statsmodels>=0.9->arch) (1.15.0)\n"
     ]
    }
   ],
   "source": [
    "pip install arch"
   ]
  },
  {
   "cell_type": "code",
   "execution_count": 20,
   "metadata": {
    "colab": {},
    "colab_type": "code",
    "id": "E42kC6Is29OC"
   },
   "outputs": [],
   "source": [
    "from arch import arch_model"
   ]
  },
  {
   "cell_type": "code",
   "execution_count": 21,
   "metadata": {
    "colab": {
     "base_uri": "https://localhost:8080/",
     "height": 676
    },
    "colab_type": "code",
    "id": "K0cKE-JU3Va8",
    "outputId": "4f804d55-ebd2-482f-b7c8-ed1822abfb7e"
   },
   "outputs": [
    {
     "name": "stdout",
     "output_type": "stream",
     "text": [
      "Iteration:      1,   Func. Count:      6,   Neg. LLF: 1258.9137571410074\n",
      "Iteration:      2,   Func. Count:     14,   Neg. LLF: 1258.3271237523945\n",
      "Iteration:      3,   Func. Count:     22,   Neg. LLF: 1258.0362335583063\n",
      "Iteration:      4,   Func. Count:     29,   Neg. LLF: 1258.0074446485285\n",
      "Iteration:      5,   Func. Count:     35,   Neg. LLF: 1258.0002162265132\n",
      "Iteration:      6,   Func. Count:     41,   Neg. LLF: 1257.9982722133323\n",
      "Iteration:      7,   Func. Count:     47,   Neg. LLF: 1257.9977058080503\n",
      "Iteration:      8,   Func. Count:     53,   Neg. LLF: 1257.9977020855445\n",
      "Optimization terminated successfully.    (Exit mode 0)\n",
      "            Current function value: 1257.9977013981754\n",
      "            Iterations: 8\n",
      "            Function evaluations: 54\n",
      "            Gradient evaluations: 8\n",
      "                     Constant Mean - GARCH Model Results                      \n",
      "==============================================================================\n",
      "Dep. Variable:                WTI_pct   R-squared:                      -0.000\n",
      "Mean Model:             Constant Mean   Adj. R-squared:                 -0.000\n",
      "Vol Model:                      GARCH   Log-Likelihood:               -1258.00\n",
      "Distribution:                  Normal   AIC:                           2524.00\n",
      "Method:            Maximum Likelihood   BIC:                           2539.54\n",
      "                                        No. Observations:                  360\n",
      "Date:                Sat, Sep 19 2020   Df Residuals:                      356\n",
      "Time:                        06:50:00   Df Model:                            4\n",
      "                                 Mean Model                                \n",
      "===========================================================================\n",
      "                 coef    std err          t      P>|t|     95.0% Conf. Int.\n",
      "---------------------------------------------------------------------------\n",
      "mu             0.7082      0.397      1.783  7.465e-02 [-7.046e-02,  1.487]\n",
      "                             Volatility Model                             \n",
      "==========================================================================\n",
      "                 coef    std err          t      P>|t|    95.0% Conf. Int.\n",
      "--------------------------------------------------------------------------\n",
      "omega          7.1148      4.717      1.508      0.131   [ -2.130, 16.360]\n",
      "alpha[1]       0.1292  6.301e-02      2.051  4.025e-02 [5.749e-03,  0.253]\n",
      "beta[1]        0.7608      0.118      6.432  1.258e-10   [  0.529,  0.993]\n",
      "==========================================================================\n",
      "\n",
      "Covariance estimator: robust\n"
     ]
    }
   ],
   "source": [
    "model_arch = arch_model(mydatats.WTI_pct[1:])\n",
    "estimates_arch = model_arch.fit()\n",
    "print(estimates_arch.summary())"
   ]
  },
  {
   "cell_type": "code",
   "execution_count": 22,
   "metadata": {
    "colab": {
     "base_uri": "https://localhost:8080/",
     "height": 537
    },
    "colab_type": "code",
    "id": "ymXU05AS3uTV",
    "outputId": "8cbb269a-be83-48f8-acc7-65d2f5da55ec"
   },
   "outputs": [
    {
     "name": "stdout",
     "output_type": "stream",
     "text": [
      "Iteration:      5,   Func. Count:     28,   Neg. LLF: 1266.0579247921228\n",
      "Optimization terminated successfully.    (Exit mode 0)\n",
      "            Current function value: 1266.0455096844084\n",
      "            Iterations: 9\n",
      "            Function evaluations: 49\n",
      "            Gradient evaluations: 9\n",
      "                      Constant Mean - ARCH Model Results                      \n",
      "==============================================================================\n",
      "Dep. Variable:                WTI_pct   R-squared:                      -0.002\n",
      "Mean Model:             Constant Mean   Adj. R-squared:                 -0.002\n",
      "Vol Model:                       ARCH   Log-Likelihood:               -1266.05\n",
      "Distribution:                  Normal   AIC:                           2538.09\n",
      "Method:            Maximum Likelihood   BIC:                           2549.75\n",
      "                                        No. Observations:                  360\n",
      "Date:                Sat, Sep 19 2020   Df Residuals:                      357\n",
      "Time:                        06:50:01   Df Model:                            3\n",
      "                               Mean Model                               \n",
      "========================================================================\n",
      "                 coef    std err          t      P>|t|  95.0% Conf. Int.\n",
      "------------------------------------------------------------------------\n",
      "mu             0.9617      0.428      2.250  2.448e-02 [  0.124,  1.800]\n",
      "                             Volatility Model                             \n",
      "==========================================================================\n",
      "                 coef    std err          t      P>|t|    95.0% Conf. Int.\n",
      "--------------------------------------------------------------------------\n",
      "omega         51.1094      5.733      8.916  4.849e-19   [ 39.874, 62.345]\n",
      "alpha[1]       0.2901      0.129      2.257  2.398e-02 [3.823e-02,  0.542]\n",
      "==========================================================================\n",
      "\n",
      "Covariance estimator: robust\n"
     ]
    }
   ],
   "source": [
    "model_arch1 = arch_model(mydatats.WTI_pct[1:], mean = \"constant\", vol = \"ARCH\", p =1)\n",
    "estimates_arch1 = model_arch1.fit(update_freq = 5)\n",
    "print(estimates_arch1.summary())"
   ]
  },
  {
   "cell_type": "code",
   "execution_count": 23,
   "metadata": {
    "colab": {
     "base_uri": "https://localhost:8080/",
     "height": 451
    },
    "colab_type": "code",
    "id": "D2N94mU55PLs",
    "outputId": "2519ddc9-f4cb-48f8-f557-9bd64f240e22"
   },
   "outputs": [
    {
     "name": "stdout",
     "output_type": "stream",
     "text": [
      "Iteration:      5,   Func. Count:     23,   Neg. LLF: 1268.5220672888063\n",
      "Optimization terminated successfully.    (Exit mode 0)\n",
      "            Current function value: 1268.5220641607734\n",
      "            Iterations: 6\n",
      "            Function evaluations: 27\n",
      "            Gradient evaluations: 6\n",
      "                        Zero Mean - ARCH Model Results                        \n",
      "==============================================================================\n",
      "Dep. Variable:                WTI_pct   R-squared:                       0.000\n",
      "Mean Model:                 Zero Mean   Adj. R-squared:                  0.003\n",
      "Vol Model:                       ARCH   Log-Likelihood:               -1268.52\n",
      "Distribution:                  Normal   AIC:                           2541.04\n",
      "Method:            Maximum Likelihood   BIC:                           2548.82\n",
      "                                        No. Observations:                  360\n",
      "Date:                Sat, Sep 19 2020   Df Residuals:                      358\n",
      "Time:                        06:50:01   Df Model:                            2\n",
      "                             Volatility Model                             \n",
      "==========================================================================\n",
      "                 coef    std err          t      P>|t|    95.0% Conf. Int.\n",
      "--------------------------------------------------------------------------\n",
      "omega         53.4228      5.671      9.420  4.519e-21   [ 42.307, 64.538]\n",
      "alpha[1]       0.2544      0.124      2.053  4.004e-02 [1.156e-02,  0.497]\n",
      "==========================================================================\n",
      "\n",
      "Covariance estimator: robust\n"
     ]
    }
   ],
   "source": [
    "model_arch2 = arch_model(mydatats.WTI_pct[1:], mean = \"zero\", vol = \"ARCH\", p =1)\n",
    "estimates_arch2 = model_arch2.fit(update_freq = 5)\n",
    "print(estimates_arch2.summary())"
   ]
  },
  {
   "cell_type": "markdown",
   "metadata": {
    "colab_type": "text",
    "id": "WvheSl6-5k3b"
   },
   "source": [
    "**Higher order ARCH Model**"
   ]
  },
  {
   "cell_type": "code",
   "execution_count": 24,
   "metadata": {
    "colab": {
     "base_uri": "https://localhost:8080/",
     "height": 572
    },
    "colab_type": "code",
    "id": "iqoghvh85hmJ",
    "outputId": "37649eed-da29-4d33-e73d-a59b1c26b2d8"
   },
   "outputs": [
    {
     "name": "stdout",
     "output_type": "stream",
     "text": [
      "Iteration:      5,   Func. Count:     35,   Neg. LLF: 1263.835974446243\n",
      "Iteration:     10,   Func. Count:     65,   Neg. LLF: 1263.8118858207763\n",
      "Optimization terminated successfully.    (Exit mode 0)\n",
      "            Current function value: 1263.8114721268587\n",
      "            Iterations: 12\n",
      "            Function evaluations: 77\n",
      "            Gradient evaluations: 12\n",
      "                      Constant Mean - ARCH Model Results                      \n",
      "==============================================================================\n",
      "Dep. Variable:                WTI_pct   R-squared:                      -0.001\n",
      "Mean Model:             Constant Mean   Adj. R-squared:                 -0.001\n",
      "Vol Model:                       ARCH   Log-Likelihood:               -1263.81\n",
      "Distribution:                  Normal   AIC:                           2535.62\n",
      "Method:            Maximum Likelihood   BIC:                           2551.17\n",
      "                                        No. Observations:                  360\n",
      "Date:                Sat, Sep 19 2020   Df Residuals:                      356\n",
      "Time:                        06:50:01   Df Model:                            4\n",
      "                                Mean Model                                \n",
      "==========================================================================\n",
      "                 coef    std err          t      P>|t|    95.0% Conf. Int.\n",
      "--------------------------------------------------------------------------\n",
      "mu             0.8405      0.425      1.977  4.802e-02 [7.316e-03,  1.674]\n",
      "                              Volatility Model                             \n",
      "===========================================================================\n",
      "                 coef    std err          t      P>|t|     95.0% Conf. Int.\n",
      "---------------------------------------------------------------------------\n",
      "omega         45.0856      5.781      7.799  6.225e-15    [ 33.756, 56.416]\n",
      "alpha[1]       0.2329      0.102      2.287  2.218e-02  [3.332e-02,  0.432]\n",
      "alpha[2]       0.1413  9.977e-02      1.417      0.157 [-5.420e-02,  0.337]\n",
      "===========================================================================\n",
      "\n",
      "Covariance estimator: robust\n"
     ]
    }
   ],
   "source": [
    "model_arch3 = arch_model(mydatats.WTI_pct[1:], mean = \"constant\", vol = \"ARCH\", p =2)\n",
    "estimates_arch3 = model_arch3.fit(update_freq = 5)\n",
    "print(estimates_arch3.summary())"
   ]
  },
  {
   "cell_type": "code",
   "execution_count": 25,
   "metadata": {
    "colab": {
     "base_uri": "https://localhost:8080/",
     "height": 624
    },
    "colab_type": "code",
    "id": "utLpdLGr6FIE",
    "outputId": "07e11be8-fedc-4087-c1d0-e7166333c5ee"
   },
   "outputs": [
    {
     "name": "stdout",
     "output_type": "stream",
     "text": [
      "Iteration:      5,   Func. Count:     45,   Neg. LLF: 1262.0419214100334\n",
      "Iteration:     10,   Func. Count:     88,   Neg. LLF: 1261.766868971389\n",
      "Iteration:     15,   Func. Count:    128,   Neg. LLF: 1261.6518707937807\n",
      "Optimization terminated successfully.    (Exit mode 0)\n",
      "            Current function value: 1261.6515451414753\n",
      "            Iterations: 16\n",
      "            Function evaluations: 137\n",
      "            Gradient evaluations: 16\n",
      "                      Constant Mean - ARCH Model Results                      \n",
      "==============================================================================\n",
      "Dep. Variable:                WTI_pct   R-squared:                      -0.000\n",
      "Mean Model:             Constant Mean   Adj. R-squared:                 -0.000\n",
      "Vol Model:                       ARCH   Log-Likelihood:               -1261.65\n",
      "Distribution:                  Normal   AIC:                           2535.30\n",
      "Method:            Maximum Likelihood   BIC:                           2558.62\n",
      "                                        No. Observations:                  360\n",
      "Date:                Sat, Sep 19 2020   Df Residuals:                      354\n",
      "Time:                        06:50:01   Df Model:                            6\n",
      "                                Mean Model                                \n",
      "==========================================================================\n",
      "                 coef    std err          t      P>|t|    95.0% Conf. Int.\n",
      "--------------------------------------------------------------------------\n",
      "mu             0.7931      0.402      1.974  4.838e-02 [5.650e-03,  1.580]\n",
      "                               Volatility Model                              \n",
      "=============================================================================\n",
      "                 coef    std err          t      P>|t|       95.0% Conf. Int.\n",
      "-----------------------------------------------------------------------------\n",
      "omega         39.3894      6.349      6.204  5.514e-10      [ 26.945, 51.834]\n",
      "alpha[1]       0.2264      0.103      2.190  2.853e-02    [2.377e-02,  0.429]\n",
      "alpha[2]       0.1451      0.107      1.361      0.173   [-6.383e-02,  0.354]\n",
      "alpha[3]       0.0785  6.993e-02      1.122      0.262   [-5.859e-02,  0.216]\n",
      "alpha[4]   9.3557e-03  3.332e-02      0.281      0.779 [-5.596e-02,7.467e-02]\n",
      "=============================================================================\n",
      "\n",
      "Covariance estimator: robust\n"
     ]
    }
   ],
   "source": [
    "model_arch4 = arch_model(mydatats.WTI_pct[1:], mean = \"constant\", vol = \"ARCH\", p =4)\n",
    "estimates_arch4 = model_arch4.fit(update_freq = 5)\n",
    "print(estimates_arch4.summary())"
   ]
  },
  {
   "cell_type": "markdown",
   "metadata": {
    "colab_type": "text",
    "id": "YJBkGGw66Ycc"
   },
   "source": [
    "**GARCH**"
   ]
  },
  {
   "cell_type": "code",
   "execution_count": 26,
   "metadata": {
    "colab": {
     "base_uri": "https://localhost:8080/",
     "height": 555
    },
    "colab_type": "code",
    "id": "WtIc0x1n6aeg",
    "outputId": "e59c5f0f-3842-4415-d911-186978a1ff99"
   },
   "outputs": [
    {
     "name": "stdout",
     "output_type": "stream",
     "text": [
      "Iteration:      5,   Func. Count:     35,   Neg. LLF: 1258.0002162265132\n",
      "Optimization terminated successfully.    (Exit mode 0)\n",
      "            Current function value: 1257.9977013981754\n",
      "            Iterations: 8\n",
      "            Function evaluations: 54\n",
      "            Gradient evaluations: 8\n",
      "                     Constant Mean - GARCH Model Results                      \n",
      "==============================================================================\n",
      "Dep. Variable:                WTI_pct   R-squared:                      -0.000\n",
      "Mean Model:             Constant Mean   Adj. R-squared:                 -0.000\n",
      "Vol Model:                      GARCH   Log-Likelihood:               -1258.00\n",
      "Distribution:                  Normal   AIC:                           2524.00\n",
      "Method:            Maximum Likelihood   BIC:                           2539.54\n",
      "                                        No. Observations:                  360\n",
      "Date:                Sat, Sep 19 2020   Df Residuals:                      356\n",
      "Time:                        06:50:01   Df Model:                            4\n",
      "                                 Mean Model                                \n",
      "===========================================================================\n",
      "                 coef    std err          t      P>|t|     95.0% Conf. Int.\n",
      "---------------------------------------------------------------------------\n",
      "mu             0.7082      0.397      1.783  7.465e-02 [-7.046e-02,  1.487]\n",
      "                             Volatility Model                             \n",
      "==========================================================================\n",
      "                 coef    std err          t      P>|t|    95.0% Conf. Int.\n",
      "--------------------------------------------------------------------------\n",
      "omega          7.1148      4.717      1.508      0.131   [ -2.130, 16.360]\n",
      "alpha[1]       0.1292  6.301e-02      2.051  4.025e-02 [5.749e-03,  0.253]\n",
      "beta[1]        0.7608      0.118      6.432  1.258e-10   [  0.529,  0.993]\n",
      "==========================================================================\n",
      "\n",
      "Covariance estimator: robust\n"
     ]
    }
   ],
   "source": [
    "model_garch_1_1 = arch_model(mydatats.WTI_pct[1:], mean = \"constant\", vol = \"GARCH\", p =1, q = 1)\n",
    "estimates_garch_1_1 = model_garch_1_1.fit(update_freq = 5)\n",
    "print(estimates_garch_1_1.summary())"
   ]
  },
  {
   "cell_type": "markdown",
   "metadata": {
    "colab_type": "text",
    "id": "y3_QcOC26zhp"
   },
   "source": [
    "alpha: How current market return is sensitive to past realised return volatility\n",
    "\n",
    "beta: The part of the squared return vol spilover to current period. (persistenece of the volatility)"
   ]
  },
  {
   "cell_type": "code",
   "execution_count": 27,
   "metadata": {
    "colab": {
     "base_uri": "https://localhost:8080/",
     "height": 572
    },
    "colab_type": "code",
    "id": "e4TPlriu9Rsf",
    "outputId": "042e9fc4-44f7-4fa9-eaf0-5a32d03e0eb0"
   },
   "outputs": [
    {
     "name": "stdout",
     "output_type": "stream",
     "text": [
      "Iteration:     10,   Func. Count:     77,   Neg. LLF: 1255.3924149228878\n",
      "Optimization terminated successfully.    (Exit mode 0)\n",
      "            Current function value: 1255.3905386044817\n",
      "            Iterations: 13\n",
      "            Function evaluations: 98\n",
      "            Gradient evaluations: 13\n",
      "                     Constant Mean - GARCH Model Results                      \n",
      "==============================================================================\n",
      "Dep. Variable:                WTI_pct   R-squared:                      -0.001\n",
      "Mean Model:             Constant Mean   Adj. R-squared:                 -0.001\n",
      "Vol Model:                      GARCH   Log-Likelihood:               -1255.39\n",
      "Distribution:                  Normal   AIC:                           2520.78\n",
      "Method:            Maximum Likelihood   BIC:                           2540.21\n",
      "                                        No. Observations:                  360\n",
      "Date:                Sat, Sep 19 2020   Df Residuals:                      355\n",
      "Time:                        06:50:01   Df Model:                            5\n",
      "                                Mean Model                                \n",
      "==========================================================================\n",
      "                 coef    std err          t      P>|t|    95.0% Conf. Int.\n",
      "--------------------------------------------------------------------------\n",
      "mu             0.8404      0.402      2.093  3.639e-02 [5.323e-02,  1.628]\n",
      "                             Volatility Model                             \n",
      "==========================================================================\n",
      "                 coef    std err          t      P>|t|    95.0% Conf. Int.\n",
      "--------------------------------------------------------------------------\n",
      "omega         10.8786      5.153      2.111  3.475e-02   [  0.780, 20.978]\n",
      "alpha[1]       0.2184  7.814e-02      2.795  5.188e-03 [6.526e-02,  0.372]\n",
      "beta[1]        0.0000  7.690e-02      0.000      1.000   [ -0.151,  0.151]\n",
      "beta[2]        0.6171      0.122      5.047  4.480e-07   [  0.377,  0.857]\n",
      "==========================================================================\n",
      "\n",
      "Covariance estimator: robust\n"
     ]
    }
   ],
   "source": [
    "model_garch_1_2 = arch_model(mydatats.WTI_pct[1:], mean = \"constant\", vol = \"GARCH\", p =1, q = 2)\n",
    "estimates_garch_1_2 = model_garch_1_2.fit(update_freq = 10)\n",
    "print(estimates_garch_1_2.summary())"
   ]
  },
  {
   "cell_type": "markdown",
   "metadata": {
    "colab_type": "text",
    "id": "q1TcU4Hv_vpr"
   },
   "source": [
    "X1 =  Income\n",
    "X2 = Wealth   \n",
    "Condition: My main income comes fro Wealth\n",
    "X1 = Income\n",
    "X2 = Z score of X1\n",
    "Henece there will be possibility of High multocollinearity among the variables. "
   ]
  },
  {
   "cell_type": "code",
   "execution_count": 28,
   "metadata": {
    "colab": {
     "base_uri": "https://localhost:8080/",
     "height": 589
    },
    "colab_type": "code",
    "id": "tajanVZTAGK_",
    "outputId": "3d38a539-d7f4-4299-e307-465c8e81c0dd"
   },
   "outputs": [
    {
     "name": "stdout",
     "output_type": "stream",
     "text": [
      "Iteration:     10,   Func. Count:     86,   Neg. LLF: 1256.7749723649983\n",
      "Optimization terminated successfully.    (Exit mode 0)\n",
      "            Current function value: 1256.765615482614\n",
      "            Iterations: 15\n",
      "            Function evaluations: 127\n",
      "            Gradient evaluations: 15\n",
      "                     Constant Mean - GARCH Model Results                      \n",
      "==============================================================================\n",
      "Dep. Variable:                WTI_pct   R-squared:                      -0.000\n",
      "Mean Model:             Constant Mean   Adj. R-squared:                 -0.000\n",
      "Vol Model:                      GARCH   Log-Likelihood:               -1256.77\n",
      "Distribution:                  Normal   AIC:                           2525.53\n",
      "Method:            Maximum Likelihood   BIC:                           2548.85\n",
      "                                        No. Observations:                  360\n",
      "Date:                Sat, Sep 19 2020   Df Residuals:                      354\n",
      "Time:                        06:50:01   Df Model:                            6\n",
      "                                 Mean Model                                \n",
      "===========================================================================\n",
      "                 coef    std err          t      P>|t|     95.0% Conf. Int.\n",
      "---------------------------------------------------------------------------\n",
      "mu             0.7693      0.404      1.904  5.691e-02 [-2.261e-02,  1.561]\n",
      "                              Volatility Model                             \n",
      "===========================================================================\n",
      "                 coef    std err          t      P>|t|     95.0% Conf. Int.\n",
      "---------------------------------------------------------------------------\n",
      "omega         10.3884      9.015      1.152      0.249    [ -7.281, 28.058]\n",
      "alpha[1]       0.1838      0.124      1.482      0.138 [-5.923e-02,  0.427]\n",
      "beta[1]        0.3379      0.140      2.414  1.578e-02  [6.356e-02,  0.612]\n",
      "beta[2]    2.4158e-14      1.363  1.772e-14      1.000    [ -2.672,  2.672]\n",
      "beta[3]        0.3133      1.058      0.296      0.767    [ -1.761,  2.387]\n",
      "===========================================================================\n",
      "\n",
      "Covariance estimator: robust\n"
     ]
    }
   ],
   "source": [
    "model_garch_1_3 = arch_model(mydatats.WTI_pct[1:], mean = \"constant\", vol = \"GARCH\", p =1, q = 3)\n",
    "estimates_garch_1_3 = model_garch_1_3.fit(update_freq = 10)\n",
    "print(estimates_garch_1_3.summary())"
   ]
  },
  {
   "cell_type": "code",
   "execution_count": 29,
   "metadata": {
    "colab": {
     "base_uri": "https://localhost:8080/",
     "height": 607
    },
    "colab_type": "code",
    "id": "0i_AF5V6BSBR",
    "outputId": "b6cf3c56-6332-45d6-8952-5260a747e278"
   },
   "outputs": [
    {
     "name": "stdout",
     "output_type": "stream",
     "text": [
      "Iteration:     10,   Func. Count:     97,   Neg. LLF: 1256.1287486878762\n",
      "Optimization terminated successfully.    (Exit mode 0)\n",
      "            Current function value: 1256.0566825134958\n",
      "            Iterations: 18\n",
      "            Function evaluations: 169\n",
      "            Gradient evaluations: 18\n",
      "                     Constant Mean - GARCH Model Results                      \n",
      "==============================================================================\n",
      "Dep. Variable:                WTI_pct   R-squared:                      -0.000\n",
      "Mean Model:             Constant Mean   Adj. R-squared:                 -0.000\n",
      "Vol Model:                      GARCH   Log-Likelihood:               -1256.06\n",
      "Distribution:                  Normal   AIC:                           2526.11\n",
      "Method:            Maximum Likelihood   BIC:                           2553.32\n",
      "                                        No. Observations:                  360\n",
      "Date:                Sat, Sep 19 2020   Df Residuals:                      353\n",
      "Time:                        06:50:01   Df Model:                            7\n",
      "                               Mean Model                               \n",
      "========================================================================\n",
      "                 coef    std err          t      P>|t|  95.0% Conf. Int.\n",
      "------------------------------------------------------------------------\n",
      "mu             0.6458      0.402      1.605      0.108 [ -0.143,  1.434]\n",
      "                              Volatility Model                             \n",
      "===========================================================================\n",
      "                 coef    std err          t      P>|t|     95.0% Conf. Int.\n",
      "---------------------------------------------------------------------------\n",
      "omega         14.5053      7.536      1.925  5.426e-02    [ -0.265, 29.276]\n",
      "alpha[1]       0.1481  7.702e-02      1.923  5.453e-02 [-2.877e-03,  0.299]\n",
      "alpha[2]       0.1585      0.160      0.990      0.322    [ -0.155,  0.472]\n",
      "beta[1]        0.0000      0.425      0.000      1.000    [ -0.833,  0.833]\n",
      "beta[2]    1.2508e-13      0.250  5.006e-13      1.000    [ -0.490,  0.490]\n",
      "beta[3]        0.4763      0.157      3.031  2.438e-03    [  0.168,  0.784]\n",
      "===========================================================================\n",
      "\n",
      "Covariance estimator: robust\n"
     ]
    }
   ],
   "source": [
    "model_garch_2_3 = arch_model(mydatats.WTI_pct[1:], mean = \"constant\", vol = \"GARCH\", p =2, q = 3)\n",
    "estimates_garch_2_3 = model_garch_2_3.fit(update_freq = 10)\n",
    "print(estimates_garch_2_3.summary())"
   ]
  },
  {
   "cell_type": "code",
   "execution_count": 30,
   "metadata": {
    "colab": {
     "base_uri": "https://localhost:8080/",
     "height": 537
    },
    "colab_type": "code",
    "id": "2KsC-gNJBeMx",
    "outputId": "f9710430-abce-4efc-fc75-7059e35a0cdd"
   },
   "outputs": [
    {
     "name": "stdout",
     "output_type": "stream",
     "text": [
      "Optimization terminated successfully.    (Exit mode 0)\n",
      "            Current function value: 1257.9977013981754\n",
      "            Iterations: 8\n",
      "            Function evaluations: 54\n",
      "            Gradient evaluations: 8\n",
      "                     Constant Mean - GARCH Model Results                      \n",
      "==============================================================================\n",
      "Dep. Variable:                WTI_pct   R-squared:                      -0.000\n",
      "Mean Model:             Constant Mean   Adj. R-squared:                 -0.000\n",
      "Vol Model:                      GARCH   Log-Likelihood:               -1258.00\n",
      "Distribution:                  Normal   AIC:                           2524.00\n",
      "Method:            Maximum Likelihood   BIC:                           2539.54\n",
      "                                        No. Observations:                  360\n",
      "Date:                Sat, Sep 19 2020   Df Residuals:                      356\n",
      "Time:                        06:50:01   Df Model:                            4\n",
      "                                 Mean Model                                \n",
      "===========================================================================\n",
      "                 coef    std err          t      P>|t|     95.0% Conf. Int.\n",
      "---------------------------------------------------------------------------\n",
      "mu             0.7082      0.397      1.783  7.465e-02 [-7.046e-02,  1.487]\n",
      "                             Volatility Model                             \n",
      "==========================================================================\n",
      "                 coef    std err          t      P>|t|    95.0% Conf. Int.\n",
      "--------------------------------------------------------------------------\n",
      "omega          7.1148      4.717      1.508      0.131   [ -2.130, 16.360]\n",
      "alpha[1]       0.1292  6.301e-02      2.051  4.025e-02 [5.749e-03,  0.253]\n",
      "beta[1]        0.7608      0.118      6.432  1.258e-10   [  0.529,  0.993]\n",
      "==========================================================================\n",
      "\n",
      "Covariance estimator: robust\n"
     ]
    }
   ],
   "source": [
    "model_garch_1_1 = arch_model(mydatats.WTI_pct[1:], mean = \"constant\", vol = \"GARCH\", p =1, q = 1)\n",
    "estimates_garch_1_1 = model_garch_1_1.fit(update_freq = 10)\n",
    "print(estimates_garch_1_1.summary())"
   ]
  },
  {
   "cell_type": "code",
   "execution_count": 31,
   "metadata": {
    "colab": {
     "base_uri": "https://localhost:8080/",
     "height": 745
    },
    "colab_type": "code",
    "id": "a5jZnu3xBzYo",
    "outputId": "a4eeff8a-88ea-4443-911f-b5a2b804e093"
   },
   "outputs": [
    {
     "name": "stdout",
     "output_type": "stream",
     "text": [
      "Iteration:      1,   Func. Count:      6,   Neg. LLF: 704.0704868449142\n",
      "Iteration:      2,   Func. Count:     15,   Neg. LLF: 703.7950233157476\n",
      "Iteration:      3,   Func. Count:     22,   Neg. LLF: 703.4348415333087\n",
      "Iteration:      4,   Func. Count:     29,   Neg. LLF: 702.330360175841\n",
      "Iteration:      5,   Func. Count:     36,   Neg. LLF: 702.2295659083068\n",
      "Iteration:      6,   Func. Count:     42,   Neg. LLF: 701.9153718336804\n",
      "Iteration:      7,   Func. Count:     49,   Neg. LLF: 701.7832126745394\n",
      "Iteration:      8,   Func. Count:     58,   Neg. LLF: 701.7801942706476\n",
      "Iteration:      9,   Func. Count:     64,   Neg. LLF: 701.7428798481044\n",
      "Iteration:     10,   Func. Count:     70,   Neg. LLF: 701.7320881723028\n",
      "Iteration:     11,   Func. Count:     76,   Neg. LLF: 701.7317444095124\n",
      "Iteration:     12,   Func. Count:     82,   Neg. LLF: 701.7317329717634\n",
      "Optimization terminated successfully.    (Exit mode 0)\n",
      "            Current function value: 701.7317331898603\n",
      "            Iterations: 12\n",
      "            Function evaluations: 82\n",
      "            Gradient evaluations: 12\n",
      "                     Constant Mean - GARCH Model Results                      \n",
      "==============================================================================\n",
      "Dep. Variable:                  NIFTY   R-squared:                      -0.001\n",
      "Mean Model:             Constant Mean   Adj. R-squared:                 -0.001\n",
      "Vol Model:                      GARCH   Log-Likelihood:               -701.732\n",
      "Distribution:                  Normal   AIC:                           1411.46\n",
      "Method:            Maximum Likelihood   BIC:                           1427.02\n",
      "                                        No. Observations:                  361\n",
      "Date:                Sat, Sep 19 2020   Df Residuals:                      357\n",
      "Time:                        06:50:02   Df Model:                            4\n",
      "                                 Mean Model                                \n",
      "===========================================================================\n",
      "                 coef    std err          t      P>|t|     95.0% Conf. Int.\n",
      "---------------------------------------------------------------------------\n",
      "mu             0.1240  7.993e-02      1.552      0.121 [-3.263e-02,  0.281]\n",
      "                               Volatility Model                              \n",
      "=============================================================================\n",
      "                 coef    std err          t      P>|t|       95.0% Conf. Int.\n",
      "-----------------------------------------------------------------------------\n",
      "omega          0.0238  3.155e-02      0.754      0.451 [-3.806e-02,8.561e-02]\n",
      "alpha[1]       0.0922  5.935e-02      1.553      0.120   [-2.415e-02,  0.209]\n",
      "beta[1]        0.9078  3.827e-02     23.719 2.281e-124      [  0.833,  0.983]\n",
      "=============================================================================\n",
      "\n",
      "Covariance estimator: robust\n"
     ]
    }
   ],
   "source": [
    "model1_garch_1_1 = arch_model(mydatats.NIFTY, mean = \"constant\", vol = \"GARCH\", p =1, q = 1)\n",
    "estimates1_garch_1_1 = model1_garch_1_1.fit()\n",
    "print(estimates1_garch_1_1.summary())"
   ]
  },
  {
   "cell_type": "code",
   "execution_count": 32,
   "metadata": {
    "colab": {
     "base_uri": "https://localhost:8080/",
     "height": 728
    },
    "colab_type": "code",
    "id": "2Dm6IPk8CcoJ",
    "outputId": "f97bbb9a-4f00-473a-99e0-644959bae1b8"
   },
   "outputs": [
    {
     "name": "stdout",
     "output_type": "stream",
     "text": [
      "Iteration:      1,   Func. Count:      6,   Neg. LLF: 969.6440391740973\n",
      "Iteration:      2,   Func. Count:     14,   Neg. LLF: 969.0282005669294\n",
      "Iteration:      3,   Func. Count:     22,   Neg. LLF: 968.9677433182785\n",
      "Iteration:      4,   Func. Count:     28,   Neg. LLF: 965.3629052744851\n",
      "Iteration:      5,   Func. Count:     35,   Neg. LLF: 963.4094849602742\n",
      "Iteration:      6,   Func. Count:     41,   Neg. LLF: 963.026256499322\n",
      "Iteration:      7,   Func. Count:     48,   Neg. LLF: 962.6140105366543\n",
      "Iteration:      8,   Func. Count:     55,   Neg. LLF: 962.4760693788144\n",
      "Iteration:      9,   Func. Count:     61,   Neg. LLF: 962.4714863963611\n",
      "Iteration:     10,   Func. Count:     67,   Neg. LLF: 962.4714174975118\n",
      "Iteration:     11,   Func. Count:     73,   Neg. LLF: 962.4714143212609\n",
      "Optimization terminated successfully.    (Exit mode 0)\n",
      "            Current function value: 962.4714156581645\n",
      "            Iterations: 11\n",
      "            Function evaluations: 73\n",
      "            Gradient evaluations: 11\n",
      "                     Constant Mean - GARCH Model Results                      \n",
      "==============================================================================\n",
      "Dep. Variable:                  BRENT   R-squared:                      -0.001\n",
      "Mean Model:             Constant Mean   Adj. R-squared:                 -0.001\n",
      "Vol Model:                      GARCH   Log-Likelihood:               -962.471\n",
      "Distribution:                  Normal   AIC:                           1932.94\n",
      "Method:            Maximum Likelihood   BIC:                           1948.49\n",
      "                                        No. Observations:                  360\n",
      "Date:                Sat, Sep 19 2020   Df Residuals:                      356\n",
      "Time:                        06:50:02   Df Model:                            4\n",
      "                               Mean Model                               \n",
      "========================================================================\n",
      "                 coef    std err          t      P>|t|  95.0% Conf. Int.\n",
      "------------------------------------------------------------------------\n",
      "mu         3.8105e-03      0.124  3.071e-02      0.975 [ -0.239,  0.247]\n",
      "                              Volatility Model                             \n",
      "===========================================================================\n",
      "                 coef    std err          t      P>|t|     95.0% Conf. Int.\n",
      "---------------------------------------------------------------------------\n",
      "omega          0.0792  6.061e-02      1.307      0.191 [-3.959e-02,  0.198]\n",
      "alpha[1]       0.1729  6.046e-02      2.860  4.233e-03  [5.443e-02,  0.291]\n",
      "beta[1]        0.8271  6.219e-02     13.298  2.374e-40    [  0.705,  0.949]\n",
      "===========================================================================\n",
      "\n",
      "Covariance estimator: robust\n"
     ]
    }
   ],
   "source": [
    "model2_garch_1_1 = arch_model(mydatats.BRENT.diff().dropna(), mean = \"constant\", vol = \"GARCH\", p =1, q = 1)\n",
    "estimates2_garch_1_1 = model2_garch_1_1.fit()\n",
    "print(estimates2_garch_1_1.summary())"
   ]
  },
  {
   "cell_type": "code",
   "execution_count": 33,
   "metadata": {
    "colab": {
     "base_uri": "https://localhost:8080/",
     "height": 884
    },
    "colab_type": "code",
    "id": "kJWqRN6jCvCN",
    "outputId": "5480cfb1-1c3d-4ac3-a442-258899cc0be5"
   },
   "outputs": [
    {
     "name": "stdout",
     "output_type": "stream",
     "text": [
      "Iteration:      1,   Func. Count:      6,   Neg. LLF: 1687.808411787387\n",
      "Iteration:      2,   Func. Count:     14,   Neg. LLF: 1684.004454889779\n",
      "Iteration:      3,   Func. Count:     20,   Neg. LLF: 1606.977542367379\n",
      "Iteration:      4,   Func. Count:     26,   Neg. LLF: 1554.3515662324744\n",
      "Iteration:      5,   Func. Count:     33,   Neg. LLF: 1520.0301967349365\n",
      "Iteration:      6,   Func. Count:     40,   Neg. LLF: 1518.8511074947785\n",
      "Iteration:      7,   Func. Count:     46,   Neg. LLF: 1512.6667677677647\n",
      "Iteration:      8,   Func. Count:     53,   Neg. LLF: 1510.584528900885\n",
      "Iteration:      9,   Func. Count:     60,   Neg. LLF: 1508.5552213030062\n",
      "Iteration:     10,   Func. Count:     67,   Neg. LLF: 1506.6890007687725\n",
      "Iteration:     11,   Func. Count:     74,   Neg. LLF: 1504.9954666852677\n",
      "Iteration:     12,   Func. Count:     81,   Neg. LLF: 1504.0806502702071\n",
      "Iteration:     13,   Func. Count:     87,   Neg. LLF: 1497.225925606719\n",
      "Iteration:     14,   Func. Count:     94,   Neg. LLF: 1496.7968534957467\n",
      "Iteration:     15,   Func. Count:    100,   Neg. LLF: 1496.5316793538652\n",
      "Iteration:     16,   Func. Count:    106,   Neg. LLF: 1496.382624066006\n",
      "Iteration:     17,   Func. Count:    112,   Neg. LLF: 1496.3766004614654\n",
      "Iteration:     18,   Func. Count:    118,   Neg. LLF: 1496.3680479651352\n",
      "Iteration:     19,   Func. Count:    124,   Neg. LLF: 1496.3674083323149\n",
      "Iteration:     20,   Func. Count:    130,   Neg. LLF: 1496.3673955663908\n",
      "Optimization terminated successfully.    (Exit mode 0)\n",
      "            Current function value: 1496.367394800689\n",
      "            Iterations: 21\n",
      "            Function evaluations: 130\n",
      "            Gradient evaluations: 20\n",
      "                     Constant Mean - GARCH Model Results                      \n",
      "==============================================================================\n",
      "Dep. Variable:                  BRENT   R-squared:                      -0.818\n",
      "Mean Model:             Constant Mean   Adj. R-squared:                 -0.818\n",
      "Vol Model:                      GARCH   Log-Likelihood:               -1496.37\n",
      "Distribution:                  Normal   AIC:                           3000.73\n",
      "Method:            Maximum Likelihood   BIC:                           3016.29\n",
      "                                        No. Observations:                  361\n",
      "Date:                Sat, Sep 19 2020   Df Residuals:                      357\n",
      "Time:                        06:50:02   Df Model:                            4\n",
      "                               Mean Model                               \n",
      "========================================================================\n",
      "                 coef    std err          t      P>|t|  95.0% Conf. Int.\n",
      "------------------------------------------------------------------------\n",
      "mu            19.5754      0.755     25.931 2.950e-148 [ 18.096, 21.055]\n",
      "                               Volatility Model                              \n",
      "=============================================================================\n",
      "                 coef    std err          t      P>|t|       95.0% Conf. Int.\n",
      "-----------------------------------------------------------------------------\n",
      "omega          2.0480      1.036      1.978  4.798e-02    [1.819e-02,  4.078]\n",
      "alpha[1]       1.0000  3.571e-02     28.001 1.575e-172      [  0.930,  1.070]\n",
      "beta[1]    8.3375e-11  6.529e-03  1.277e-08      1.000 [-1.280e-02,1.280e-02]\n",
      "=============================================================================\n",
      "\n",
      "Covariance estimator: robust\n"
     ]
    }
   ],
   "source": [
    "model3_garch_1_1 = arch_model(mydatats.BRENT, mean = \"constant\", vol = \"GARCH\", p =1, q = 1)\n",
    "estimates3_garch_1_1 = model3_garch_1_1.fit()\n",
    "print(estimates3_garch_1_1.summary())"
   ]
  },
  {
   "cell_type": "markdown",
   "metadata": {
    "colab_type": "text",
    "id": "zBHDzimpGwpy"
   },
   "source": [
    "**AUTO ARMA**"
   ]
  },
  {
   "cell_type": "code",
   "execution_count": 34,
   "metadata": {
    "colab": {
     "base_uri": "https://localhost:8080/",
     "height": 260
    },
    "colab_type": "code",
    "id": "YZTTqZAbGwQF",
    "outputId": "8d285f5a-dd62-4ec5-a864-773bcbf0d842"
   },
   "outputs": [
    {
     "name": "stdout",
     "output_type": "stream",
     "text": [
      "Requirement already satisfied: pmdarima in /usr/local/lib/python3.6/dist-packages (1.7.1)\n",
      "Requirement already satisfied: pandas>=0.19 in /usr/local/lib/python3.6/dist-packages (from pmdarima) (1.0.5)\n",
      "Requirement already satisfied: statsmodels<0.12,>=0.11 in /usr/local/lib/python3.6/dist-packages (from pmdarima) (0.11.1)\n",
      "Requirement already satisfied: scikit-learn>=0.22 in /usr/local/lib/python3.6/dist-packages (from pmdarima) (0.22.2.post1)\n",
      "Requirement already satisfied: setuptools<50.0.0 in /usr/local/lib/python3.6/dist-packages (from pmdarima) (49.6.0)\n",
      "Requirement already satisfied: joblib>=0.11 in /usr/local/lib/python3.6/dist-packages (from pmdarima) (0.16.0)\n",
      "Requirement already satisfied: Cython<0.29.18,>=0.29 in /usr/local/lib/python3.6/dist-packages (from pmdarima) (0.29.17)\n",
      "Requirement already satisfied: urllib3 in /usr/local/lib/python3.6/dist-packages (from pmdarima) (1.24.3)\n",
      "Requirement already satisfied: scipy>=1.3.2 in /usr/local/lib/python3.6/dist-packages (from pmdarima) (1.4.1)\n",
      "Requirement already satisfied: numpy>=1.17.3 in /usr/local/lib/python3.6/dist-packages (from pmdarima) (1.18.5)\n",
      "Requirement already satisfied: python-dateutil>=2.6.1 in /usr/local/lib/python3.6/dist-packages (from pandas>=0.19->pmdarima) (2.8.1)\n",
      "Requirement already satisfied: pytz>=2017.2 in /usr/local/lib/python3.6/dist-packages (from pandas>=0.19->pmdarima) (2018.9)\n",
      "Requirement already satisfied: patsy>=0.5 in /usr/local/lib/python3.6/dist-packages (from statsmodels<0.12,>=0.11->pmdarima) (0.5.1)\n",
      "Requirement already satisfied: six>=1.5 in /usr/local/lib/python3.6/dist-packages (from python-dateutil>=2.6.1->pandas>=0.19->pmdarima) (1.15.0)\n"
     ]
    }
   ],
   "source": [
    "pip install pmdarima"
   ]
  },
  {
   "cell_type": "code",
   "execution_count": 35,
   "metadata": {
    "colab": {},
    "colab_type": "code",
    "id": "S70VijC3Hp3O"
   },
   "outputs": [],
   "source": [
    "from pmdarima.arima import auto_arima"
   ]
  },
  {
   "cell_type": "code",
   "execution_count": 37,
   "metadata": {
    "colab": {
     "base_uri": "https://localhost:8080/",
     "height": 176
    },
    "colab_type": "code",
    "id": "JV3A4mpLG8R_",
    "outputId": "3c1e5385-3b2b-415b-fcd2-e2c2c1e44553"
   },
   "outputs": [
    {
     "name": "stderr",
     "output_type": "stream",
     "text": [
      "/usr/local/lib/python3.6/dist-packages/statsmodels/tsa/statespace/sarimax.py:963: UserWarning: Non-stationary starting autoregressive parameters found. Using zeros as starting parameters.\n",
      "  warn('Non-stationary starting autoregressive parameters'\n",
      "/usr/local/lib/python3.6/dist-packages/statsmodels/tsa/statespace/sarimax.py:975: UserWarning: Non-invertible starting MA parameters found. Using zeros as starting parameters.\n",
      "  warn('Non-invertible starting MA parameters found.'\n",
      "/usr/local/lib/python3.6/dist-packages/statsmodels/tsa/statespace/sarimax.py:963: UserWarning: Non-stationary starting autoregressive parameters found. Using zeros as starting parameters.\n",
      "  warn('Non-stationary starting autoregressive parameters'\n",
      "/usr/local/lib/python3.6/dist-packages/statsmodels/tsa/statespace/sarimax.py:975: UserWarning: Non-invertible starting MA parameters found. Using zeros as starting parameters.\n",
      "  warn('Non-invertible starting MA parameters found.'\n"
     ]
    }
   ],
   "source": [
    "model_auto_wti = auto_arima(mydatats.WTI_pct[1:])"
   ]
  },
  {
   "cell_type": "code",
   "execution_count": 38,
   "metadata": {
    "colab": {
     "base_uri": "https://localhost:8080/",
     "height": 87
    },
    "colab_type": "code",
    "id": "CVTa5M3zIQkq",
    "outputId": "fc816ad9-7dd3-40e7-f4c4-a502b392064b"
   },
   "outputs": [
    {
     "data": {
      "text/plain": [
       "ARIMA(maxiter=50, method='lbfgs', order=(3, 0, 1), out_of_sample_size=0,\n",
       "      scoring='mse', scoring_args={}, seasonal_order=(0, 0, 0, 0),\n",
       "      start_params=None, suppress_warnings=False, trend=None,\n",
       "      with_intercept=True)"
      ]
     },
     "execution_count": 38,
     "metadata": {
      "tags": []
     },
     "output_type": "execute_result"
    }
   ],
   "source": [
    "model_auto_wti"
   ]
  },
  {
   "cell_type": "code",
   "execution_count": 39,
   "metadata": {
    "colab": {
     "base_uri": "https://localhost:8080/",
     "height": 485
    },
    "colab_type": "code",
    "id": "bfs83iZ3IU-D",
    "outputId": "7b017fb6-d27a-4e75-a518-c09486a5c193"
   },
   "outputs": [
    {
     "name": "stdout",
     "output_type": "stream",
     "text": [
      "                               SARIMAX Results                                \n",
      "==============================================================================\n",
      "Dep. Variable:                      y   No. Observations:                  360\n",
      "Model:               SARIMAX(3, 0, 1)   Log Likelihood               -1260.818\n",
      "Date:                Sat, 19 Sep 2020   AIC                           2533.637\n",
      "Time:                        06:52:15   BIC                           2556.953\n",
      "Sample:                             0   HQIC                          2542.908\n",
      "                                - 360                                         \n",
      "Covariance Type:                  opg                                         \n",
      "==============================================================================\n",
      "                 coef    std err          z      P>|z|      [0.025      0.975]\n",
      "------------------------------------------------------------------------------\n",
      "intercept      0.1175      0.088      1.328      0.184      -0.056       0.291\n",
      "ar.L1          1.0924      0.106     10.287      0.000       0.884       1.301\n",
      "ar.L2         -0.1989      0.083     -2.384      0.017      -0.362      -0.035\n",
      "ar.L3         -0.0855      0.054     -1.578      0.115      -0.192       0.021\n",
      "ma.L1         -0.8373      0.097     -8.622      0.000      -1.028      -0.647\n",
      "sigma2        64.4647      3.901     16.525      0.000      56.819      72.111\n",
      "===================================================================================\n",
      "Ljung-Box (Q):                       26.89   Jarque-Bera (JB):                61.90\n",
      "Prob(Q):                              0.94   Prob(JB):                         0.00\n",
      "Heteroskedasticity (H):               0.90   Skew:                             0.31\n",
      "Prob(H) (two-sided):                  0.55   Kurtosis:                         4.94\n",
      "===================================================================================\n",
      "\n",
      "Warnings:\n",
      "[1] Covariance matrix calculated using the outer product of gradients (complex-step).\n"
     ]
    }
   ],
   "source": [
    "print(model_auto_wti.summary())"
   ]
  },
  {
   "cell_type": "code",
   "execution_count": 43,
   "metadata": {
    "colab": {
     "base_uri": "https://localhost:8080/",
     "height": 1000
    },
    "colab_type": "code",
    "id": "PTcbNmBlInkX",
    "outputId": "f4498a29-5437-46f6-da95-7e5774ea051c"
   },
   "outputs": [
    {
     "name": "stderr",
     "output_type": "stream",
     "text": [
      "/usr/local/lib/python3.6/dist-packages/statsmodels/tsa/base/tsa_model.py:162: ValueWarning: No frequency information was provided, so inferred frequency MS will be used.\n",
      "  % freq, ValueWarning)\n",
      "/usr/local/lib/python3.6/dist-packages/statsmodels/tsa/base/tsa_model.py:162: ValueWarning: No frequency information was provided, so inferred frequency MS will be used.\n",
      "  % freq, ValueWarning)\n",
      "/usr/local/lib/python3.6/dist-packages/statsmodels/base/model.py:568: ConvergenceWarning: Maximum Likelihood optimization failed to converge. Check mle_retvals\n",
      "  \"Check mle_retvals\", ConvergenceWarning)\n",
      "/usr/local/lib/python3.6/dist-packages/statsmodels/tsa/base/tsa_model.py:162: ValueWarning: No frequency information was provided, so inferred frequency MS will be used.\n",
      "  % freq, ValueWarning)\n",
      "/usr/local/lib/python3.6/dist-packages/statsmodels/tsa/base/tsa_model.py:162: ValueWarning: No frequency information was provided, so inferred frequency MS will be used.\n",
      "  % freq, ValueWarning)\n",
      "/usr/local/lib/python3.6/dist-packages/statsmodels/base/model.py:568: ConvergenceWarning: Maximum Likelihood optimization failed to converge. Check mle_retvals\n",
      "  \"Check mle_retvals\", ConvergenceWarning)\n",
      "/usr/local/lib/python3.6/dist-packages/statsmodels/tsa/base/tsa_model.py:162: ValueWarning: No frequency information was provided, so inferred frequency MS will be used.\n",
      "  % freq, ValueWarning)\n",
      "/usr/local/lib/python3.6/dist-packages/statsmodels/tsa/base/tsa_model.py:162: ValueWarning: No frequency information was provided, so inferred frequency MS will be used.\n",
      "  % freq, ValueWarning)\n",
      "/usr/local/lib/python3.6/dist-packages/statsmodels/base/model.py:568: ConvergenceWarning: Maximum Likelihood optimization failed to converge. Check mle_retvals\n",
      "  \"Check mle_retvals\", ConvergenceWarning)\n",
      "/usr/local/lib/python3.6/dist-packages/statsmodels/tsa/base/tsa_model.py:162: ValueWarning: No frequency information was provided, so inferred frequency MS will be used.\n",
      "  % freq, ValueWarning)\n",
      "/usr/local/lib/python3.6/dist-packages/statsmodels/tsa/base/tsa_model.py:162: ValueWarning: No frequency information was provided, so inferred frequency MS will be used.\n",
      "  % freq, ValueWarning)\n",
      "/usr/local/lib/python3.6/dist-packages/statsmodels/base/model.py:568: ConvergenceWarning: Maximum Likelihood optimization failed to converge. Check mle_retvals\n",
      "  \"Check mle_retvals\", ConvergenceWarning)\n",
      "/usr/local/lib/python3.6/dist-packages/statsmodels/tsa/base/tsa_model.py:162: ValueWarning: No frequency information was provided, so inferred frequency MS will be used.\n",
      "  % freq, ValueWarning)\n",
      "/usr/local/lib/python3.6/dist-packages/statsmodels/tsa/base/tsa_model.py:162: ValueWarning: No frequency information was provided, so inferred frequency MS will be used.\n",
      "  % freq, ValueWarning)\n",
      "/usr/local/lib/python3.6/dist-packages/statsmodels/base/model.py:568: ConvergenceWarning: Maximum Likelihood optimization failed to converge. Check mle_retvals\n",
      "  \"Check mle_retvals\", ConvergenceWarning)\n",
      "/usr/local/lib/python3.6/dist-packages/statsmodels/tsa/base/tsa_model.py:162: ValueWarning: No frequency information was provided, so inferred frequency MS will be used.\n",
      "  % freq, ValueWarning)\n",
      "/usr/local/lib/python3.6/dist-packages/statsmodels/tsa/base/tsa_model.py:162: ValueWarning: No frequency information was provided, so inferred frequency MS will be used.\n",
      "  % freq, ValueWarning)\n",
      "/usr/local/lib/python3.6/dist-packages/statsmodels/base/model.py:568: ConvergenceWarning: Maximum Likelihood optimization failed to converge. Check mle_retvals\n",
      "  \"Check mle_retvals\", ConvergenceWarning)\n",
      "/usr/local/lib/python3.6/dist-packages/statsmodels/tsa/base/tsa_model.py:162: ValueWarning: No frequency information was provided, so inferred frequency MS will be used.\n",
      "  % freq, ValueWarning)\n",
      "/usr/local/lib/python3.6/dist-packages/statsmodels/tsa/base/tsa_model.py:162: ValueWarning: No frequency information was provided, so inferred frequency MS will be used.\n",
      "  % freq, ValueWarning)\n",
      "/usr/local/lib/python3.6/dist-packages/statsmodels/base/model.py:568: ConvergenceWarning: Maximum Likelihood optimization failed to converge. Check mle_retvals\n",
      "  \"Check mle_retvals\", ConvergenceWarning)\n",
      "/usr/local/lib/python3.6/dist-packages/statsmodels/tsa/base/tsa_model.py:162: ValueWarning: No frequency information was provided, so inferred frequency MS will be used.\n",
      "  % freq, ValueWarning)\n",
      "/usr/local/lib/python3.6/dist-packages/statsmodels/tsa/base/tsa_model.py:162: ValueWarning: No frequency information was provided, so inferred frequency MS will be used.\n",
      "  % freq, ValueWarning)\n",
      "/usr/local/lib/python3.6/dist-packages/statsmodels/base/model.py:568: ConvergenceWarning: Maximum Likelihood optimization failed to converge. Check mle_retvals\n",
      "  \"Check mle_retvals\", ConvergenceWarning)\n",
      "/usr/local/lib/python3.6/dist-packages/statsmodels/tsa/base/tsa_model.py:162: ValueWarning: No frequency information was provided, so inferred frequency MS will be used.\n",
      "  % freq, ValueWarning)\n",
      "/usr/local/lib/python3.6/dist-packages/statsmodels/tsa/base/tsa_model.py:162: ValueWarning: No frequency information was provided, so inferred frequency MS will be used.\n",
      "  % freq, ValueWarning)\n",
      "/usr/local/lib/python3.6/dist-packages/statsmodels/base/model.py:568: ConvergenceWarning: Maximum Likelihood optimization failed to converge. Check mle_retvals\n",
      "  \"Check mle_retvals\", ConvergenceWarning)\n",
      "/usr/local/lib/python3.6/dist-packages/statsmodels/tsa/base/tsa_model.py:162: ValueWarning: No frequency information was provided, so inferred frequency MS will be used.\n",
      "  % freq, ValueWarning)\n",
      "/usr/local/lib/python3.6/dist-packages/statsmodels/tsa/base/tsa_model.py:162: ValueWarning: No frequency information was provided, so inferred frequency MS will be used.\n",
      "  % freq, ValueWarning)\n",
      "/usr/local/lib/python3.6/dist-packages/statsmodels/base/model.py:568: ConvergenceWarning: Maximum Likelihood optimization failed to converge. Check mle_retvals\n",
      "  \"Check mle_retvals\", ConvergenceWarning)\n",
      "/usr/local/lib/python3.6/dist-packages/statsmodels/tsa/base/tsa_model.py:162: ValueWarning: No frequency information was provided, so inferred frequency MS will be used.\n",
      "  % freq, ValueWarning)\n",
      "/usr/local/lib/python3.6/dist-packages/statsmodels/tsa/base/tsa_model.py:162: ValueWarning: No frequency information was provided, so inferred frequency MS will be used.\n",
      "  % freq, ValueWarning)\n",
      "/usr/local/lib/python3.6/dist-packages/statsmodels/base/model.py:568: ConvergenceWarning: Maximum Likelihood optimization failed to converge. Check mle_retvals\n",
      "  \"Check mle_retvals\", ConvergenceWarning)\n",
      "/usr/local/lib/python3.6/dist-packages/statsmodels/tsa/base/tsa_model.py:162: ValueWarning: No frequency information was provided, so inferred frequency MS will be used.\n",
      "  % freq, ValueWarning)\n",
      "/usr/local/lib/python3.6/dist-packages/statsmodels/tsa/base/tsa_model.py:162: ValueWarning: No frequency information was provided, so inferred frequency MS will be used.\n",
      "  % freq, ValueWarning)\n",
      "/usr/local/lib/python3.6/dist-packages/statsmodels/tsa/statespace/sarimax.py:963: UserWarning: Non-stationary starting autoregressive parameters found. Using zeros as starting parameters.\n",
      "  warn('Non-stationary starting autoregressive parameters'\n",
      "/usr/local/lib/python3.6/dist-packages/statsmodels/tsa/statespace/sarimax.py:975: UserWarning: Non-invertible starting MA parameters found. Using zeros as starting parameters.\n",
      "  warn('Non-invertible starting MA parameters found.'\n",
      "/usr/local/lib/python3.6/dist-packages/statsmodels/base/model.py:568: ConvergenceWarning: Maximum Likelihood optimization failed to converge. Check mle_retvals\n",
      "  \"Check mle_retvals\", ConvergenceWarning)\n",
      "/usr/local/lib/python3.6/dist-packages/statsmodels/tsa/base/tsa_model.py:162: ValueWarning: No frequency information was provided, so inferred frequency MS will be used.\n",
      "  % freq, ValueWarning)\n",
      "/usr/local/lib/python3.6/dist-packages/statsmodels/tsa/base/tsa_model.py:162: ValueWarning: No frequency information was provided, so inferred frequency MS will be used.\n",
      "  % freq, ValueWarning)\n"
     ]
    },
    {
     "name": "stdout",
     "output_type": "stream",
     "text": [
      "                               SARIMAX Results                                \n",
      "==============================================================================\n",
      "Dep. Variable:                      y   No. Observations:                  360\n",
      "Model:               SARIMAX(1, 0, 0)   Log Likelihood               -1264.542\n",
      "Date:                Sat, 19 Sep 2020   AIC                           2541.085\n",
      "Time:                        07:03:45   BIC                           2564.401\n",
      "Sample:                    02-01-1990   HQIC                          2550.356\n",
      "                         - 01-01-2020                                         \n",
      "Covariance Type:                  opg                                         \n",
      "==============================================================================\n",
      "                 coef    std err          z      P>|z|      [0.025      0.975]\n",
      "------------------------------------------------------------------------------\n",
      "intercept      0.4602      2.218      0.207      0.836      -3.887       4.807\n",
      "drift          0.0018      0.012      0.144      0.885      -0.022       0.026\n",
      "NIFTY          0.1557      0.193      0.809      0.419      -0.222       0.533\n",
      "INR           -0.0061      0.058     -0.104      0.917      -0.121       0.108\n",
      "ar.L1          0.2742      0.047      5.893      0.000       0.183       0.365\n",
      "sigma2        65.6663      3.865     16.989      0.000      58.091      73.242\n",
      "===================================================================================\n",
      "Ljung-Box (Q):                       36.11   Jarque-Bera (JB):                81.03\n",
      "Prob(Q):                              0.65   Prob(JB):                         0.00\n",
      "Heteroskedasticity (H):               0.87   Skew:                             0.37\n",
      "Prob(H) (two-sided):                  0.45   Kurtosis:                         5.20\n",
      "===================================================================================\n",
      "\n",
      "Warnings:\n",
      "[1] Covariance matrix calculated using the outer product of gradients (complex-step).\n"
     ]
    },
    {
     "name": "stderr",
     "output_type": "stream",
     "text": [
      "/usr/local/lib/python3.6/dist-packages/statsmodels/base/model.py:568: ConvergenceWarning: Maximum Likelihood optimization failed to converge. Check mle_retvals\n",
      "  \"Check mle_retvals\", ConvergenceWarning)\n"
     ]
    }
   ],
   "source": [
    "model_auto_arima = auto_arima(mydatats.WTI_pct[1:], exogenous= mydatats[[\"NIFTY\", \"INR\"]][1:], m = 5, max_order= None, max_p= 4, max_q= 2, max_P=4, max_Q=4,\n",
    "                              max_D=1, maxiter= 20, alpha = 0.05, n_jobs=1, trend = \"ct\", information_criterion='aic')\n",
    "print(model_auto_arima.summary())"
   ]
  },
  {
   "cell_type": "code",
   "execution_count": null,
   "metadata": {
    "colab": {},
    "colab_type": "code",
    "id": "slH0L13uKoXf"
   },
   "outputs": [],
   "source": []
  }
 ],
 "metadata": {
  "colab": {
   "name": "DS-Part-III.ipynb",
   "provenance": []
  },
  "kernelspec": {
   "display_name": "Python 3",
   "language": "python",
   "name": "python3"
  },
  "language_info": {
   "codemirror_mode": {
    "name": "ipython",
    "version": 3
   },
   "file_extension": ".py",
   "mimetype": "text/x-python",
   "name": "python",
   "nbconvert_exporter": "python",
   "pygments_lexer": "ipython3",
   "version": "3.7.3"
  }
 },
 "nbformat": 4,
 "nbformat_minor": 1
}
